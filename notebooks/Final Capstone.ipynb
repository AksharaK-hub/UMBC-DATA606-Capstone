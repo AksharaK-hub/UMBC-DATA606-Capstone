{
 "cells": [
  {
   "cell_type": "markdown",
   "id": "124a2075",
   "metadata": {},
   "source": [
    "   #                                           Uber Fare Prediction"
   ]
  },
  {
   "cell_type": "code",
   "execution_count": 1,
   "id": "d16bd614",
   "metadata": {},
   "outputs": [
    {
     "name": "stdout",
     "output_type": "stream",
     "text": [
      "Defaulting to user installation because normal site-packages is not writeable\n",
      "Requirement already satisfied: geopy in c:\\users\\aksha\\appdata\\roaming\\python\\python39\\site-packages (2.4.1)\n",
      "Requirement already satisfied: geographiclib<3,>=1.52 in c:\\users\\aksha\\appdata\\roaming\\python\\python39\\site-packages (from geopy) (2.0)\n",
      "Note: you may need to restart the kernel to use updated packages.\n"
     ]
    }
   ],
   "source": [
    "pip install geopy"
   ]
  },
  {
   "cell_type": "code",
   "execution_count": 55,
   "id": "dcc1647f",
   "metadata": {},
   "outputs": [],
   "source": [
    "# Import necessary libraries\n",
    "import pandas as pd\n",
    "import numpy as np\n",
    "import matplotlib.pyplot as plt\n",
    "import seaborn as sns\n",
    "import geopy.distance\n",
    "\n",
    "from sklearn.model_selection import train_test_split\n",
    "from sklearn.linear_model import LinearRegression\n",
    "from sklearn.ensemble import RandomForestRegressor, GradientBoostingRegressor"
   ]
  },
  {
   "cell_type": "code",
   "execution_count": 56,
   "id": "5352e73f",
   "metadata": {},
   "outputs": [
    {
     "data": {
      "text/html": [
       "<div>\n",
       "<style scoped>\n",
       "    .dataframe tbody tr th:only-of-type {\n",
       "        vertical-align: middle;\n",
       "    }\n",
       "\n",
       "    .dataframe tbody tr th {\n",
       "        vertical-align: top;\n",
       "    }\n",
       "\n",
       "    .dataframe thead th {\n",
       "        text-align: right;\n",
       "    }\n",
       "</style>\n",
       "<table border=\"1\" class=\"dataframe\">\n",
       "  <thead>\n",
       "    <tr style=\"text-align: right;\">\n",
       "      <th></th>\n",
       "      <th>Unnamed: 0</th>\n",
       "      <th>key</th>\n",
       "      <th>fare_amount</th>\n",
       "      <th>pickup_datetime</th>\n",
       "      <th>pickup_longitude</th>\n",
       "      <th>pickup_latitude</th>\n",
       "      <th>dropoff_longitude</th>\n",
       "      <th>dropoff_latitude</th>\n",
       "      <th>passenger_count</th>\n",
       "    </tr>\n",
       "  </thead>\n",
       "  <tbody>\n",
       "    <tr>\n",
       "      <th>0</th>\n",
       "      <td>24238194</td>\n",
       "      <td>2015-05-07 19:52:06.0000003</td>\n",
       "      <td>7.5</td>\n",
       "      <td>2015-05-07 19:52:06 UTC</td>\n",
       "      <td>-73.999817</td>\n",
       "      <td>40.738354</td>\n",
       "      <td>-73.999512</td>\n",
       "      <td>40.723217</td>\n",
       "      <td>1</td>\n",
       "    </tr>\n",
       "    <tr>\n",
       "      <th>1</th>\n",
       "      <td>27835199</td>\n",
       "      <td>2009-07-17 20:04:56.0000002</td>\n",
       "      <td>7.7</td>\n",
       "      <td>2009-07-17 20:04:56 UTC</td>\n",
       "      <td>-73.994355</td>\n",
       "      <td>40.728225</td>\n",
       "      <td>-73.994710</td>\n",
       "      <td>40.750325</td>\n",
       "      <td>1</td>\n",
       "    </tr>\n",
       "    <tr>\n",
       "      <th>2</th>\n",
       "      <td>44984355</td>\n",
       "      <td>2009-08-24 21:45:00.00000061</td>\n",
       "      <td>12.9</td>\n",
       "      <td>2009-08-24 21:45:00 UTC</td>\n",
       "      <td>-74.005043</td>\n",
       "      <td>40.740770</td>\n",
       "      <td>-73.962565</td>\n",
       "      <td>40.772647</td>\n",
       "      <td>1</td>\n",
       "    </tr>\n",
       "    <tr>\n",
       "      <th>3</th>\n",
       "      <td>25894730</td>\n",
       "      <td>2009-06-26 08:22:21.0000001</td>\n",
       "      <td>5.3</td>\n",
       "      <td>2009-06-26 08:22:21 UTC</td>\n",
       "      <td>-73.976124</td>\n",
       "      <td>40.790844</td>\n",
       "      <td>-73.965316</td>\n",
       "      <td>40.803349</td>\n",
       "      <td>3</td>\n",
       "    </tr>\n",
       "    <tr>\n",
       "      <th>4</th>\n",
       "      <td>17610152</td>\n",
       "      <td>2014-08-28 17:47:00.000000188</td>\n",
       "      <td>16.0</td>\n",
       "      <td>2014-08-28 17:47:00 UTC</td>\n",
       "      <td>-73.925023</td>\n",
       "      <td>40.744085</td>\n",
       "      <td>-73.973082</td>\n",
       "      <td>40.761247</td>\n",
       "      <td>5</td>\n",
       "    </tr>\n",
       "  </tbody>\n",
       "</table>\n",
       "</div>"
      ],
      "text/plain": [
       "   Unnamed: 0                            key  fare_amount  \\\n",
       "0    24238194    2015-05-07 19:52:06.0000003          7.5   \n",
       "1    27835199    2009-07-17 20:04:56.0000002          7.7   \n",
       "2    44984355   2009-08-24 21:45:00.00000061         12.9   \n",
       "3    25894730    2009-06-26 08:22:21.0000001          5.3   \n",
       "4    17610152  2014-08-28 17:47:00.000000188         16.0   \n",
       "\n",
       "           pickup_datetime  pickup_longitude  pickup_latitude  \\\n",
       "0  2015-05-07 19:52:06 UTC        -73.999817        40.738354   \n",
       "1  2009-07-17 20:04:56 UTC        -73.994355        40.728225   \n",
       "2  2009-08-24 21:45:00 UTC        -74.005043        40.740770   \n",
       "3  2009-06-26 08:22:21 UTC        -73.976124        40.790844   \n",
       "4  2014-08-28 17:47:00 UTC        -73.925023        40.744085   \n",
       "\n",
       "   dropoff_longitude  dropoff_latitude  passenger_count  \n",
       "0         -73.999512         40.723217                1  \n",
       "1         -73.994710         40.750325                1  \n",
       "2         -73.962565         40.772647                1  \n",
       "3         -73.965316         40.803349                3  \n",
       "4         -73.973082         40.761247                5  "
      ]
     },
     "execution_count": 56,
     "metadata": {},
     "output_type": "execute_result"
    }
   ],
   "source": [
    "import pandas as pd\n",
    "\n",
    "#read the csv file\n",
    "df = pd.read_csv(\"C:/Users/aksha/Downloads/uber.csv/uber.csv\")\n",
    "df.head()"
   ]
  },
  {
   "cell_type": "markdown",
   "id": "e4bd9253",
   "metadata": {},
   "source": [
    "### Data Cleaning"
   ]
  },
  {
   "cell_type": "code",
   "execution_count": 57,
   "id": "40a52626",
   "metadata": {},
   "outputs": [
    {
     "name": "stdout",
     "output_type": "stream",
     "text": [
      "\n",
      "Data Summary:\n",
      "          Unnamed: 0    fare_amount  pickup_longitude  pickup_latitude  \\\n",
      "count  2.000000e+05  200000.000000     200000.000000    200000.000000   \n",
      "mean   2.771250e+07      11.359955        -72.527638        39.935885   \n",
      "std    1.601382e+07       9.901776         11.437787         7.720539   \n",
      "min    1.000000e+00     -52.000000      -1340.648410       -74.015515   \n",
      "25%    1.382535e+07       6.000000        -73.992065        40.734796   \n",
      "50%    2.774550e+07       8.500000        -73.981823        40.752592   \n",
      "75%    4.155530e+07      12.500000        -73.967154        40.767158   \n",
      "max    5.542357e+07     499.000000         57.418457      1644.421482   \n",
      "\n",
      "       dropoff_longitude  dropoff_latitude  passenger_count  \n",
      "count      199999.000000     199999.000000    200000.000000  \n",
      "mean          -72.525292         39.923890         1.684535  \n",
      "std            13.117408          6.794829         1.385997  \n",
      "min         -3356.666300       -881.985513         0.000000  \n",
      "25%           -73.991407         40.733823         1.000000  \n",
      "50%           -73.980093         40.753042         1.000000  \n",
      "75%           -73.963658         40.768001         2.000000  \n",
      "max          1153.572603        872.697628       208.000000  \n",
      "<class 'pandas.core.frame.DataFrame'>\n",
      "RangeIndex: 200000 entries, 0 to 199999\n",
      "Data columns (total 9 columns):\n",
      " #   Column             Non-Null Count   Dtype  \n",
      "---  ------             --------------   -----  \n",
      " 0   Unnamed: 0         200000 non-null  int64  \n",
      " 1   key                200000 non-null  object \n",
      " 2   fare_amount        200000 non-null  float64\n",
      " 3   pickup_datetime    200000 non-null  object \n",
      " 4   pickup_longitude   200000 non-null  float64\n",
      " 5   pickup_latitude    200000 non-null  float64\n",
      " 6   dropoff_longitude  199999 non-null  float64\n",
      " 7   dropoff_latitude   199999 non-null  float64\n",
      " 8   passenger_count    200000 non-null  int64  \n",
      "dtypes: float64(5), int64(2), object(2)\n",
      "memory usage: 13.7+ MB\n",
      "\n",
      "Data Info:\n",
      " None\n",
      "\n",
      "Missing Values:\n",
      " Unnamed: 0           0\n",
      "key                  0\n",
      "fare_amount          0\n",
      "pickup_datetime      0\n",
      "pickup_longitude     0\n",
      "pickup_latitude      0\n",
      "dropoff_longitude    1\n",
      "dropoff_latitude     1\n",
      "passenger_count      0\n",
      "dtype: int64\n"
     ]
    }
   ],
   "source": [
    "# Data Exploration\n",
    "print(\"\\nData Summary:\\n\", df.describe())\n",
    "print(\"\\nData Info:\\n\", df.info())\n",
    "print(\"\\nMissing Values:\\n\", df.isnull().sum())"
   ]
  },
  {
   "cell_type": "code",
   "execution_count": 58,
   "id": "04ff1c6b",
   "metadata": {},
   "outputs": [],
   "source": [
    "# Drop any unnecessary columns\n",
    "df = df.drop(columns=['Unnamed: 0', 'key'])\n",
    "# Drop rows with missing values\n",
    "df = df.dropna()"
   ]
  },
  {
   "cell_type": "code",
   "execution_count": 71,
   "id": "c52427ae",
   "metadata": {},
   "outputs": [],
   "source": [
    "# Convert 'pickup_datetime' to datetime format\n",
    "df['pickup_datetime'] = pd.to_datetime(df['pickup_datetime'], errors='coerce')\n",
    "\n",
    "# Extract day, month, year, hour from 'pickup_datetime'\n",
    "df['year'] = df['pickup_datetime'].dt.year\n",
    "df['month'] = df['pickup_datetime'].dt.month\n",
    "df['day'] = df['pickup_datetime'].dt.day\n",
    "df['hour'] = df['pickup_datetime'].dt.hour"
   ]
  },
  {
   "cell_type": "code",
   "execution_count": 60,
   "id": "acb45905",
   "metadata": {},
   "outputs": [],
   "source": [
    "df = df[(df.pickup_latitude<90) & (df.dropoff_latitude<90) &\n",
    "        (df.pickup_latitude>-90) & (df.dropoff_latitude>-90) &\n",
    "        (df.pickup_longitude<180) & (df.dropoff_longitude<180) &\n",
    "        (df.pickup_longitude>-180) & (df.dropoff_longitude>-180)]"
   ]
  },
  {
   "cell_type": "markdown",
   "id": "f163703b",
   "metadata": {},
   "source": [
    "Ensuring that pickup and dropoff coordinates are within valid geographic ranges i.e.,\n",
    "\n",
    "Latitude must be between -90 and 90 ;\n",
    "Longitude must be between -180 and 180"
   ]
  },
  {
   "cell_type": "code",
   "execution_count": 61,
   "id": "d63a03f2",
   "metadata": {},
   "outputs": [
    {
     "data": {
      "text/html": [
       "<div>\n",
       "<style scoped>\n",
       "    .dataframe tbody tr th:only-of-type {\n",
       "        vertical-align: middle;\n",
       "    }\n",
       "\n",
       "    .dataframe tbody tr th {\n",
       "        vertical-align: top;\n",
       "    }\n",
       "\n",
       "    .dataframe thead th {\n",
       "        text-align: right;\n",
       "    }\n",
       "</style>\n",
       "<table border=\"1\" class=\"dataframe\">\n",
       "  <thead>\n",
       "    <tr style=\"text-align: right;\">\n",
       "      <th></th>\n",
       "      <th>fare_amount</th>\n",
       "      <th>pickup_datetime</th>\n",
       "      <th>pickup_longitude</th>\n",
       "      <th>pickup_latitude</th>\n",
       "      <th>dropoff_longitude</th>\n",
       "      <th>dropoff_latitude</th>\n",
       "      <th>passenger_count</th>\n",
       "      <th>year</th>\n",
       "      <th>month</th>\n",
       "      <th>day</th>\n",
       "      <th>hour</th>\n",
       "      <th>distance_km</th>\n",
       "    </tr>\n",
       "  </thead>\n",
       "  <tbody>\n",
       "    <tr>\n",
       "      <th>0</th>\n",
       "      <td>7.5</td>\n",
       "      <td>2015-05-07 19:52:06+00:00</td>\n",
       "      <td>-73.999817</td>\n",
       "      <td>40.738354</td>\n",
       "      <td>-73.999512</td>\n",
       "      <td>40.723217</td>\n",
       "      <td>1</td>\n",
       "      <td>2015</td>\n",
       "      <td>5</td>\n",
       "      <td>7</td>\n",
       "      <td>19</td>\n",
       "      <td>1.681111</td>\n",
       "    </tr>\n",
       "    <tr>\n",
       "      <th>1</th>\n",
       "      <td>7.7</td>\n",
       "      <td>2009-07-17 20:04:56+00:00</td>\n",
       "      <td>-73.994355</td>\n",
       "      <td>40.728225</td>\n",
       "      <td>-73.994710</td>\n",
       "      <td>40.750325</td>\n",
       "      <td>1</td>\n",
       "      <td>2009</td>\n",
       "      <td>7</td>\n",
       "      <td>17</td>\n",
       "      <td>20</td>\n",
       "      <td>2.454363</td>\n",
       "    </tr>\n",
       "    <tr>\n",
       "      <th>2</th>\n",
       "      <td>12.9</td>\n",
       "      <td>2009-08-24 21:45:00+00:00</td>\n",
       "      <td>-74.005043</td>\n",
       "      <td>40.740770</td>\n",
       "      <td>-73.962565</td>\n",
       "      <td>40.772647</td>\n",
       "      <td>1</td>\n",
       "      <td>2009</td>\n",
       "      <td>8</td>\n",
       "      <td>24</td>\n",
       "      <td>21</td>\n",
       "      <td>5.039603</td>\n",
       "    </tr>\n",
       "    <tr>\n",
       "      <th>3</th>\n",
       "      <td>5.3</td>\n",
       "      <td>2009-06-26 08:22:21+00:00</td>\n",
       "      <td>-73.976124</td>\n",
       "      <td>40.790844</td>\n",
       "      <td>-73.965316</td>\n",
       "      <td>40.803349</td>\n",
       "      <td>3</td>\n",
       "      <td>2009</td>\n",
       "      <td>6</td>\n",
       "      <td>26</td>\n",
       "      <td>8</td>\n",
       "      <td>1.661442</td>\n",
       "    </tr>\n",
       "    <tr>\n",
       "      <th>4</th>\n",
       "      <td>16.0</td>\n",
       "      <td>2014-08-28 17:47:00+00:00</td>\n",
       "      <td>-73.925023</td>\n",
       "      <td>40.744085</td>\n",
       "      <td>-73.973082</td>\n",
       "      <td>40.761247</td>\n",
       "      <td>5</td>\n",
       "      <td>2014</td>\n",
       "      <td>8</td>\n",
       "      <td>28</td>\n",
       "      <td>17</td>\n",
       "      <td>4.483730</td>\n",
       "    </tr>\n",
       "  </tbody>\n",
       "</table>\n",
       "</div>"
      ],
      "text/plain": [
       "   fare_amount           pickup_datetime  pickup_longitude  pickup_latitude  \\\n",
       "0          7.5 2015-05-07 19:52:06+00:00        -73.999817        40.738354   \n",
       "1          7.7 2009-07-17 20:04:56+00:00        -73.994355        40.728225   \n",
       "2         12.9 2009-08-24 21:45:00+00:00        -74.005043        40.740770   \n",
       "3          5.3 2009-06-26 08:22:21+00:00        -73.976124        40.790844   \n",
       "4         16.0 2014-08-28 17:47:00+00:00        -73.925023        40.744085   \n",
       "\n",
       "   dropoff_longitude  dropoff_latitude  passenger_count  year  month  day  \\\n",
       "0         -73.999512         40.723217                1  2015      5    7   \n",
       "1         -73.994710         40.750325                1  2009      7   17   \n",
       "2         -73.962565         40.772647                1  2009      8   24   \n",
       "3         -73.965316         40.803349                3  2009      6   26   \n",
       "4         -73.973082         40.761247                5  2014      8   28   \n",
       "\n",
       "   hour  distance_km  \n",
       "0    19     1.681111  \n",
       "1    20     2.454363  \n",
       "2    21     5.039603  \n",
       "3     8     1.661442  \n",
       "4    17     4.483730  "
      ]
     },
     "execution_count": 61,
     "metadata": {},
     "output_type": "execute_result"
    }
   ],
   "source": [
    "# Calculate the distance between pick-up and drop-off locations in km\n",
    "df['distance_km'] = df.apply(lambda row: geopy.distance.distance(\n",
    "    (row['pickup_latitude'], row['pickup_longitude']),\n",
    "    (row['dropoff_latitude'], row['dropoff_longitude'])\n",
    ").km, axis=1)\n",
    "\n",
    "df.head()"
   ]
  },
  {
   "cell_type": "code",
   "execution_count": 62,
   "id": "bd2a5ba9",
   "metadata": {},
   "outputs": [],
   "source": [
    "df = df[df['distance_km'] > 0.1]   # Drop rows with zero or extremely low distance values"
   ]
  },
  {
   "cell_type": "code",
   "execution_count": 63,
   "id": "92accf38",
   "metadata": {},
   "outputs": [
    {
     "data": {
      "text/html": [
       "<div>\n",
       "<style scoped>\n",
       "    .dataframe tbody tr th:only-of-type {\n",
       "        vertical-align: middle;\n",
       "    }\n",
       "\n",
       "    .dataframe tbody tr th {\n",
       "        vertical-align: top;\n",
       "    }\n",
       "\n",
       "    .dataframe thead th {\n",
       "        text-align: right;\n",
       "    }\n",
       "</style>\n",
       "<table border=\"1\" class=\"dataframe\">\n",
       "  <thead>\n",
       "    <tr style=\"text-align: right;\">\n",
       "      <th></th>\n",
       "      <th>fare_amount</th>\n",
       "      <th>pickup_longitude</th>\n",
       "      <th>pickup_latitude</th>\n",
       "      <th>dropoff_longitude</th>\n",
       "      <th>dropoff_latitude</th>\n",
       "      <th>passenger_count</th>\n",
       "      <th>year</th>\n",
       "      <th>month</th>\n",
       "      <th>day</th>\n",
       "      <th>hour</th>\n",
       "      <th>distance_km</th>\n",
       "    </tr>\n",
       "  </thead>\n",
       "  <tbody>\n",
       "    <tr>\n",
       "      <th>count</th>\n",
       "      <td>193181.000000</td>\n",
       "      <td>193181.000000</td>\n",
       "      <td>193181.000000</td>\n",
       "      <td>193181.000000</td>\n",
       "      <td>193181.000000</td>\n",
       "      <td>193181.000000</td>\n",
       "      <td>193181.000000</td>\n",
       "      <td>193181.000000</td>\n",
       "      <td>193181.000000</td>\n",
       "      <td>193181.000000</td>\n",
       "      <td>193181.000000</td>\n",
       "    </tr>\n",
       "    <tr>\n",
       "      <th>mean</th>\n",
       "      <td>11.325360</td>\n",
       "      <td>-73.826438</td>\n",
       "      <td>40.646946</td>\n",
       "      <td>-73.836606</td>\n",
       "      <td>40.651185</td>\n",
       "      <td>1.684834</td>\n",
       "      <td>2011.749038</td>\n",
       "      <td>6.279857</td>\n",
       "      <td>15.700944</td>\n",
       "      <td>13.493853</td>\n",
       "      <td>21.287764</td>\n",
       "    </tr>\n",
       "    <tr>\n",
       "      <th>std</th>\n",
       "      <td>9.533968</td>\n",
       "      <td>3.661584</td>\n",
       "      <td>2.928109</td>\n",
       "      <td>3.544671</td>\n",
       "      <td>2.899322</td>\n",
       "      <td>1.307871</td>\n",
       "      <td>1.859536</td>\n",
       "      <td>3.440310</td>\n",
       "      <td>8.687465</td>\n",
       "      <td>6.513549</td>\n",
       "      <td>386.273949</td>\n",
       "    </tr>\n",
       "    <tr>\n",
       "      <th>min</th>\n",
       "      <td>-52.000000</td>\n",
       "      <td>-93.824668</td>\n",
       "      <td>-74.015515</td>\n",
       "      <td>-75.458979</td>\n",
       "      <td>-74.015750</td>\n",
       "      <td>0.000000</td>\n",
       "      <td>2009.000000</td>\n",
       "      <td>1.000000</td>\n",
       "      <td>1.000000</td>\n",
       "      <td>0.000000</td>\n",
       "      <td>0.100198</td>\n",
       "    </tr>\n",
       "    <tr>\n",
       "      <th>25%</th>\n",
       "      <td>6.000000</td>\n",
       "      <td>-73.992267</td>\n",
       "      <td>40.736397</td>\n",
       "      <td>-73.991584</td>\n",
       "      <td>40.735260</td>\n",
       "      <td>1.000000</td>\n",
       "      <td>2010.000000</td>\n",
       "      <td>3.000000</td>\n",
       "      <td>8.000000</td>\n",
       "      <td>9.000000</td>\n",
       "      <td>1.296502</td>\n",
       "    </tr>\n",
       "    <tr>\n",
       "      <th>50%</th>\n",
       "      <td>8.500000</td>\n",
       "      <td>-73.982123</td>\n",
       "      <td>40.753267</td>\n",
       "      <td>-73.980545</td>\n",
       "      <td>40.753720</td>\n",
       "      <td>1.000000</td>\n",
       "      <td>2012.000000</td>\n",
       "      <td>6.000000</td>\n",
       "      <td>16.000000</td>\n",
       "      <td>14.000000</td>\n",
       "      <td>2.197413</td>\n",
       "    </tr>\n",
       "    <tr>\n",
       "      <th>75%</th>\n",
       "      <td>12.500000</td>\n",
       "      <td>-73.968446</td>\n",
       "      <td>40.767532</td>\n",
       "      <td>-73.965481</td>\n",
       "      <td>40.768330</td>\n",
       "      <td>2.000000</td>\n",
       "      <td>2013.000000</td>\n",
       "      <td>9.000000</td>\n",
       "      <td>23.000000</td>\n",
       "      <td>19.000000</td>\n",
       "      <td>3.977790</td>\n",
       "    </tr>\n",
       "    <tr>\n",
       "      <th>max</th>\n",
       "      <td>230.000000</td>\n",
       "      <td>40.808425</td>\n",
       "      <td>48.018760</td>\n",
       "      <td>40.831932</td>\n",
       "      <td>42.464187</td>\n",
       "      <td>6.000000</td>\n",
       "      <td>2015.000000</td>\n",
       "      <td>12.000000</td>\n",
       "      <td>31.000000</td>\n",
       "      <td>23.000000</td>\n",
       "      <td>8783.593498</td>\n",
       "    </tr>\n",
       "  </tbody>\n",
       "</table>\n",
       "</div>"
      ],
      "text/plain": [
       "         fare_amount  pickup_longitude  pickup_latitude  dropoff_longitude  \\\n",
       "count  193181.000000     193181.000000    193181.000000      193181.000000   \n",
       "mean       11.325360        -73.826438        40.646946         -73.836606   \n",
       "std         9.533968          3.661584         2.928109           3.544671   \n",
       "min       -52.000000        -93.824668       -74.015515         -75.458979   \n",
       "25%         6.000000        -73.992267        40.736397         -73.991584   \n",
       "50%         8.500000        -73.982123        40.753267         -73.980545   \n",
       "75%        12.500000        -73.968446        40.767532         -73.965481   \n",
       "max       230.000000         40.808425        48.018760          40.831932   \n",
       "\n",
       "       dropoff_latitude  passenger_count           year          month  \\\n",
       "count     193181.000000    193181.000000  193181.000000  193181.000000   \n",
       "mean          40.651185         1.684834    2011.749038       6.279857   \n",
       "std            2.899322         1.307871       1.859536       3.440310   \n",
       "min          -74.015750         0.000000    2009.000000       1.000000   \n",
       "25%           40.735260         1.000000    2010.000000       3.000000   \n",
       "50%           40.753720         1.000000    2012.000000       6.000000   \n",
       "75%           40.768330         2.000000    2013.000000       9.000000   \n",
       "max           42.464187         6.000000    2015.000000      12.000000   \n",
       "\n",
       "                 day           hour    distance_km  \n",
       "count  193181.000000  193181.000000  193181.000000  \n",
       "mean       15.700944      13.493853      21.287764  \n",
       "std         8.687465       6.513549     386.273949  \n",
       "min         1.000000       0.000000       0.100198  \n",
       "25%         8.000000       9.000000       1.296502  \n",
       "50%        16.000000      14.000000       2.197413  \n",
       "75%        23.000000      19.000000       3.977790  \n",
       "max        31.000000      23.000000    8783.593498  "
      ]
     },
     "execution_count": 63,
     "metadata": {},
     "output_type": "execute_result"
    }
   ],
   "source": [
    "df.describe()"
   ]
  },
  {
   "cell_type": "markdown",
   "id": "26922075",
   "metadata": {},
   "source": [
    "### Exploratory Data Analysis (EDA)"
   ]
  },
  {
   "cell_type": "code",
   "execution_count": 64,
   "id": "0c25be86",
   "metadata": {},
   "outputs": [
    {
     "data": {
      "image/png": "[encoded data removed]",
      "text/plain": [
       "<Figure size 700x300 with 1 Axes>"
      ]
     },
     "metadata": {},
     "output_type": "display_data"
    }
   ],
   "source": [
    "# Creating histogram of trip_distance\n",
    "plt.figure(figsize=(7,3))\n",
    "sns.histplot(df['distance_km'], bins=range(0,30,1))\n",
    "plt.title('Trip distance histogram');"
   ]
  },
  {
   "cell_type": "markdown",
   "id": "a5a59107",
   "metadata": {},
   "source": [
    "This visualization shows that majority of the trips distance were less than 5km"
   ]
  },
  {
   "cell_type": "code",
   "execution_count": 65,
   "id": "af5eed76",
   "metadata": {},
   "outputs": [
    {
     "data": {
      "image/png": "[encoded data removed]",
      "text/plain": [
       "<Figure size 800x400 with 1 Axes>"
      ]
     },
     "metadata": {},
     "output_type": "display_data"
    }
   ],
   "source": [
    "#Defining the target variable \n",
    "target = 'fare_amount'\n",
    "\n",
    "#Distribution of fare_amount\n",
    "import matplotlib.pyplot as plt\n",
    "import seaborn as sns\n",
    "\n",
    "plt.figure(figsize=[8, 4])\n",
    "sns.histplot(df[target], color='g', edgecolor=\"black\", linewidth=2, bins=30, kde=True)\n",
    "plt.title('Target Variable Distribution - Median Value of Homes ($1Ms)')\n",
    "plt.xlabel('fare_amount') \n",
    "plt.ylabel('Density')\n",
    "plt.show()"
   ]
  },
  {
   "cell_type": "markdown",
   "id": "43d19819",
   "metadata": {},
   "source": [
    "###### Rides per Day"
   ]
  },
  {
   "cell_type": "code",
   "execution_count": 66,
   "id": "af6e48c8",
   "metadata": {},
   "outputs": [
    {
     "data": {
      "text/plain": [
       "day\n",
       "Monday       24355\n",
       "Tuesday      27192\n",
       "Wednesday    28048\n",
       "Thursday     28994\n",
       "Friday       29823\n",
       "Saturday     29261\n",
       "Sunday       25508\n",
       "dtype: int64"
      ]
     },
     "execution_count": 66,
     "metadata": {},
     "output_type": "execute_result"
    }
   ],
   "source": [
    "df['day'] = pd.to_datetime(df['pickup_datetime']).dt.day_name()\n",
    "\n",
    "# Group by 'day' and count occurrences\n",
    "daily_rides = df.groupby('day').size()\n",
    "\n",
    "# Reindex to ensure the days are in the correct order\n",
    "day_order = [\"Monday\", \"Tuesday\", \"Wednesday\", \"Thursday\", \"Friday\", \"Saturday\", \"Sunday\"]\n",
    "daily_rides = daily_rides.reindex(day_order)\n",
    "daily_rides"
   ]
  },
  {
   "cell_type": "code",
   "execution_count": 67,
   "id": "0d0a41a0",
   "metadata": {},
   "outputs": [
    {
     "data": {
      "image/png": "[encoded data removed]",
      "text/plain": [
       "<Figure size 1000x600 with 1 Axes>"
      ]
     },
     "metadata": {},
     "output_type": "display_data"
    }
   ],
   "source": [
    "import matplotlib.pyplot as plt\n",
    "import seaborn as sns\n",
    "\n",
    "#Plotting rides per day\n",
    "plt.figure(figsize=(10, 6))\n",
    "ax = sns.barplot(x=daily_rides.index, y=daily_rides.values, order=day_order)\n",
    "\n",
    "# Add counts on top of each bar\n",
    "for i, count in enumerate(daily_rides.values):\n",
    "    ax.text(i, count + 500, f'{count}', ha='center', va='bottom', fontsize=10)\n",
    "\n",
    "    plt.title('Ride Count by Day', fontsize=16)\n",
    "plt.xlabel('Day', fontsize=14)\n",
    "plt.ylabel('Ride Count', fontsize=14)\n",
    "plt.show()"
   ]
  },
  {
   "cell_type": "markdown",
   "id": "0d171dad",
   "metadata": {},
   "source": [
    "This pattern suggests that the end of the workweek and weekend activities are the main reasons why ride requests are most common during these days. The fact that fares tend to rise during the week and peak on Friday may indicate that demand causes rides to be longer or more costly on these days.\n",
    "\n",
    "Demand is highest on Thursdays and Fridays when people commute or socialize, while Saturdays are when most people spend their time relaxing."
   ]
  },
  {
   "cell_type": "markdown",
   "id": "089a408e",
   "metadata": {},
   "source": [
    "###### Revenue Per Day"
   ]
  },
  {
   "cell_type": "code",
   "execution_count": 68,
   "id": "d9b47b24",
   "metadata": {},
   "outputs": [
    {
     "data": {
      "text/html": [
       "<div>\n",
       "<style scoped>\n",
       "    .dataframe tbody tr th:only-of-type {\n",
       "        vertical-align: middle;\n",
       "    }\n",
       "\n",
       "    .dataframe tbody tr th {\n",
       "        vertical-align: top;\n",
       "    }\n",
       "\n",
       "    .dataframe thead th {\n",
       "        text-align: right;\n",
       "    }\n",
       "</style>\n",
       "<table border=\"1\" class=\"dataframe\">\n",
       "  <thead>\n",
       "    <tr style=\"text-align: right;\">\n",
       "      <th></th>\n",
       "      <th>fare_amount</th>\n",
       "    </tr>\n",
       "    <tr>\n",
       "      <th>day</th>\n",
       "      <th></th>\n",
       "    </tr>\n",
       "  </thead>\n",
       "  <tbody>\n",
       "    <tr>\n",
       "      <th>Monday</th>\n",
       "      <td>277136.06</td>\n",
       "    </tr>\n",
       "    <tr>\n",
       "      <th>Tuesday</th>\n",
       "      <td>301201.12</td>\n",
       "    </tr>\n",
       "    <tr>\n",
       "      <th>Wednesday</th>\n",
       "      <td>317481.91</td>\n",
       "    </tr>\n",
       "    <tr>\n",
       "      <th>Thursday</th>\n",
       "      <td>332490.54</td>\n",
       "    </tr>\n",
       "    <tr>\n",
       "      <th>Friday</th>\n",
       "      <td>340036.55</td>\n",
       "    </tr>\n",
       "    <tr>\n",
       "      <th>Saturday</th>\n",
       "      <td>321459.41</td>\n",
       "    </tr>\n",
       "    <tr>\n",
       "      <th>Sunday</th>\n",
       "      <td>298038.76</td>\n",
       "    </tr>\n",
       "  </tbody>\n",
       "</table>\n",
       "</div>"
      ],
      "text/plain": [
       "           fare_amount\n",
       "day                   \n",
       "Monday       277136.06\n",
       "Tuesday      301201.12\n",
       "Wednesday    317481.91\n",
       "Thursday     332490.54\n",
       "Friday       340036.55\n",
       "Saturday     321459.41\n",
       "Sunday       298038.76"
      ]
     },
     "execution_count": 68,
     "metadata": {},
     "output_type": "execute_result"
    }
   ],
   "source": [
    "df_without_date = df.drop(columns=['pickup_datetime'])\n",
    "total_amount_per_day = df_without_date.groupby(by='day').sum()[['fare_amount']]\n",
    "total_amount_per_day = total_amount_per_day.reindex(index=day_order)\n",
    "total_amount_per_day"
   ]
  },
  {
   "cell_type": "code",
   "execution_count": 69,
   "id": "d687951f",
   "metadata": {},
   "outputs": [
    {
     "data": {
      "text/plain": [
       "Text(0.5, 1.0, 'Revenue by day')"
      ]
     },
     "execution_count": 69,
     "metadata": {},
     "output_type": "execute_result"
    },
    {
     "data": {
      "image/png": "[encoded data removed]",
      "text/plain": [
       "<Figure size 1000x600 with 1 Axes>"
      ]
     },
     "metadata": {},
     "output_type": "display_data"
    }
   ],
   "source": [
    "#Plotting revenue per day\n",
    "plt.figure(figsize=(10,6))\n",
    "ax = sns.barplot(x=total_amount_per_day.index, y=total_amount_per_day['fare_amount'])\n",
    "\n",
    "# Add revenue values on top of each bar\n",
    "for i, revenue in enumerate(total_amount_per_day['fare_amount']):\n",
    "    ax.text(i, revenue + 5000, f'${revenue:,.2f}', ha='center', va='bottom', fontsize=10)\n",
    "\n",
    "ax.set_xticklabels(day_order)\n",
    "ax.set_ylabel(\"Revenue (USD)\")\n",
    "plt.title(\"Revenue by day\")"
   ]
  },
  {
   "cell_type": "markdown",
   "id": "e048a256",
   "metadata": {},
   "source": [
    "This indicates that Fridays have the highest fare amount ($340,036.55) in addition to the greatest ride count (29,823). This indicates a potential correlation where higher ride counts lead to increased fare amounts"
   ]
  },
  {
   "cell_type": "markdown",
   "id": "d404bc1d",
   "metadata": {},
   "source": [
    "###### Rides per month"
   ]
  },
  {
   "cell_type": "code",
   "execution_count": 70,
   "id": "1ec92b15",
   "metadata": {},
   "outputs": [
    {
     "data": {
      "text/plain": [
       "month_name\n",
       "January      17097\n",
       "February     16133\n",
       "March        18152\n",
       "April        17981\n",
       "May          18229\n",
       "June         17186\n",
       "July         14554\n",
       "August       13646\n",
       "September    14740\n",
       "October      15652\n",
       "November     14813\n",
       "December     14998\n",
       "dtype: int64"
      ]
     },
     "execution_count": 70,
     "metadata": {},
     "output_type": "execute_result"
    }
   ],
   "source": [
    "# Convert month number to month name\n",
    "df['month_name'] = df['pickup_datetime'].dt.month_name()\n",
    "\n",
    "# Group by 'month_name' and count occurrences\n",
    "monthly_rides = df.groupby('month_name').size()\n",
    "month_order = [\n",
    "    \"January\", \"February\", \"March\", \"April\", \"May\", \"June\",\n",
    "    \"July\", \"August\", \"September\", \"October\", \"November\", \"December\"\n",
    "]\n",
    "monthly_rides = monthly_rides.reindex(month_order)\n",
    "monthly_rides"
   ]
  },
  {
   "cell_type": "code",
   "execution_count": 72,
   "id": "9810e3ff",
   "metadata": {},
   "outputs": [
    {
     "data": {
      "image/png": "[encoded data removed]",
      "text/plain": [
       "<Figure size 1100x700 with 1 Axes>"
      ]
     },
     "metadata": {},
     "output_type": "display_data"
    }
   ],
   "source": [
    "# Plotting rides per month\n",
    "plt.figure(figsize=(11, 7))\n",
    "ax = sns.barplot(x=monthly_rides.index, y=monthly_rides.values, order=month_order)\n",
    "\n",
    "# Add counts on top of each bar\n",
    "for i, count in enumerate(monthly_rides.values):\n",
    "    ax.text(i, count + 500, f'{count}', ha='center', va='bottom', fontsize=10)\n",
    "\n",
    "plt.title('Ride Count by Month', fontsize=16)\n",
    "plt.xlabel('Month', fontsize=14)\n",
    "plt.ylabel('Ride Count', fontsize=14)\n",
    "plt.show()"
   ]
  },
  {
   "cell_type": "markdown",
   "id": "e0703efc",
   "metadata": {},
   "source": [
    "This visualisation shows that the ride counts tend to be higher in the spring and early summer months (i.e., March-May)."
   ]
  },
  {
   "cell_type": "markdown",
   "id": "21bd13a1",
   "metadata": {},
   "source": [
    "###### Fare amount vs passenger count"
   ]
  },
  {
   "cell_type": "code",
   "execution_count": 73,
   "id": "3ac91076",
   "metadata": {},
   "outputs": [],
   "source": [
    "from scipy import stats"
   ]
  },
  {
   "cell_type": "code",
   "execution_count": 74,
   "id": "afa833af",
   "metadata": {},
   "outputs": [
    {
     "data": {
      "text/html": [
       "<div>\n",
       "<style scoped>\n",
       "    .dataframe tbody tr th:only-of-type {\n",
       "        vertical-align: middle;\n",
       "    }\n",
       "\n",
       "    .dataframe tbody tr th {\n",
       "        vertical-align: top;\n",
       "    }\n",
       "\n",
       "    .dataframe thead th {\n",
       "        text-align: right;\n",
       "    }\n",
       "</style>\n",
       "<table border=\"1\" class=\"dataframe\">\n",
       "  <thead>\n",
       "    <tr style=\"text-align: right;\">\n",
       "      <th></th>\n",
       "      <th>fare_amount</th>\n",
       "      <th>passenger_count</th>\n",
       "    </tr>\n",
       "  </thead>\n",
       "  <tbody>\n",
       "    <tr>\n",
       "      <th>count</th>\n",
       "      <td>193181.000000</td>\n",
       "      <td>193181.000000</td>\n",
       "    </tr>\n",
       "    <tr>\n",
       "      <th>mean</th>\n",
       "      <td>11.325360</td>\n",
       "      <td>1.684834</td>\n",
       "    </tr>\n",
       "    <tr>\n",
       "      <th>std</th>\n",
       "      <td>9.533968</td>\n",
       "      <td>1.307871</td>\n",
       "    </tr>\n",
       "    <tr>\n",
       "      <th>min</th>\n",
       "      <td>-52.000000</td>\n",
       "      <td>0.000000</td>\n",
       "    </tr>\n",
       "    <tr>\n",
       "      <th>25%</th>\n",
       "      <td>6.000000</td>\n",
       "      <td>1.000000</td>\n",
       "    </tr>\n",
       "    <tr>\n",
       "      <th>50%</th>\n",
       "      <td>8.500000</td>\n",
       "      <td>1.000000</td>\n",
       "    </tr>\n",
       "    <tr>\n",
       "      <th>75%</th>\n",
       "      <td>12.500000</td>\n",
       "      <td>2.000000</td>\n",
       "    </tr>\n",
       "    <tr>\n",
       "      <th>max</th>\n",
       "      <td>230.000000</td>\n",
       "      <td>6.000000</td>\n",
       "    </tr>\n",
       "  </tbody>\n",
       "</table>\n",
       "</div>"
      ],
      "text/plain": [
       "         fare_amount  passenger_count\n",
       "count  193181.000000    193181.000000\n",
       "mean       11.325360         1.684834\n",
       "std         9.533968         1.307871\n",
       "min       -52.000000         0.000000\n",
       "25%         6.000000         1.000000\n",
       "50%         8.500000         1.000000\n",
       "75%        12.500000         2.000000\n",
       "max       230.000000         6.000000"
      ]
     },
     "execution_count": 74,
     "metadata": {},
     "output_type": "execute_result"
    }
   ],
   "source": [
    "df.describe()[['fare_amount','passenger_count']]"
   ]
  },
  {
   "cell_type": "code",
   "execution_count": 75,
   "id": "89cd5738",
   "metadata": {},
   "outputs": [
    {
     "data": {
      "text/html": [
       "<div>\n",
       "<style scoped>\n",
       "    .dataframe tbody tr th:only-of-type {\n",
       "        vertical-align: middle;\n",
       "    }\n",
       "\n",
       "    .dataframe tbody tr th {\n",
       "        vertical-align: top;\n",
       "    }\n",
       "\n",
       "    .dataframe thead th {\n",
       "        text-align: right;\n",
       "    }\n",
       "</style>\n",
       "<table border=\"1\" class=\"dataframe\">\n",
       "  <thead>\n",
       "    <tr style=\"text-align: right;\">\n",
       "      <th></th>\n",
       "      <th>fare_amount</th>\n",
       "    </tr>\n",
       "    <tr>\n",
       "      <th>passenger_count</th>\n",
       "      <th></th>\n",
       "    </tr>\n",
       "  </thead>\n",
       "  <tbody>\n",
       "    <tr>\n",
       "      <th>0</th>\n",
       "      <td>9.323280</td>\n",
       "    </tr>\n",
       "    <tr>\n",
       "      <th>1</th>\n",
       "      <td>11.206744</td>\n",
       "    </tr>\n",
       "    <tr>\n",
       "      <th>2</th>\n",
       "      <td>11.761229</td>\n",
       "    </tr>\n",
       "    <tr>\n",
       "      <th>3</th>\n",
       "      <td>11.462200</td>\n",
       "    </tr>\n",
       "    <tr>\n",
       "      <th>4</th>\n",
       "      <td>11.640264</td>\n",
       "    </tr>\n",
       "    <tr>\n",
       "      <th>5</th>\n",
       "      <td>11.225773</td>\n",
       "    </tr>\n",
       "    <tr>\n",
       "      <th>6</th>\n",
       "      <td>12.203810</td>\n",
       "    </tr>\n",
       "  </tbody>\n",
       "</table>\n",
       "</div>"
      ],
      "text/plain": [
       "                 fare_amount\n",
       "passenger_count             \n",
       "0                   9.323280\n",
       "1                  11.206744\n",
       "2                  11.761229\n",
       "3                  11.462200\n",
       "4                  11.640264\n",
       "5                  11.225773\n",
       "6                  12.203810"
      ]
     },
     "execution_count": 75,
     "metadata": {},
     "output_type": "execute_result"
    }
   ],
   "source": [
    "df.groupby('passenger_count')[['fare_amount']].mean()"
   ]
  },
  {
   "cell_type": "markdown",
   "id": "ee091705",
   "metadata": {},
   "source": [
    "As we can see the values of passenger count and fare amount are consistent and we don't see any relationship, but it can be because of random sampling. To find wether these values are statistically significant, let's do some hypothesis testing using ANOVA test."
   ]
  },
  {
   "cell_type": "markdown",
   "id": "1c29e594",
   "metadata": {},
   "source": [
    "###### Hypothesis\n",
    "\n",
    "Null Hypothesis: There is no difference between average fare amount based on the no of passenger. \n",
    "\n",
    "Alternative Hypothesis: There is difference between average fare amount based on the no of passenger."
   ]
  },
  {
   "cell_type": "code",
   "execution_count": 76,
   "id": "d4739f5f",
   "metadata": {},
   "outputs": [
    {
     "name": "stdout",
     "output_type": "stream",
     "text": [
      "F-statistic: 24.615108554370245\n",
      "p-value: 7.13241308967599e-25\n"
     ]
    }
   ],
   "source": [
    "# Collect fare amounts for each passenger count in a list\n",
    "fare_amounts = [df[df['passenger_count'] == i]['fare_amount'] for i in range(1, 7)]\n",
    "\n",
    "# ANOVA test\n",
    "result = stats.f_oneway(*fare_amounts)  # Unpacking the list for the test\n",
    "\n",
    "# Print the results\n",
    "print(\"F-statistic:\", result.statistic)\n",
    "print(\"p-value:\", result.pvalue)"
   ]
  },
  {
   "cell_type": "code",
   "execution_count": 77,
   "id": "ee04def6",
   "metadata": {},
   "outputs": [
    {
     "data": {
      "image/png": "[encoded data removed]",
      "text/plain": [
       "<Figure size 1000x600 with 1 Axes>"
      ]
     },
     "metadata": {},
     "output_type": "display_data"
    }
   ],
   "source": [
    "# Plotting the fare amount distribution by passenger count using a box plot\n",
    "plt.figure(figsize=(10, 6))\n",
    "sns.boxplot(x='passenger_count', y='fare_amount', data=df, palette='pastel')\n",
    "\n",
    "# Adding titles and labels\n",
    "plt.title('Fare Amount Distribution by Passenger Count')\n",
    "plt.xlabel('Passenger Count')\n",
    "plt.ylabel('Fare Amount (USD)')\n",
    "\n",
    "plt.show()"
   ]
  },
  {
   "cell_type": "markdown",
   "id": "05ecba76",
   "metadata": {},
   "source": [
    "Since the p-value is less than 0.05, the null hypothesis is rejected. This suggests that there is a statistically significant variance in average fare amounts depending on the number of passengers, which supports the alternative hypothesis, it means that the fare amount varies with the number of passengers."
   ]
  },
  {
   "cell_type": "markdown",
   "id": "426b035c",
   "metadata": {},
   "source": [
    "###### Outlier detection using box plots:"
   ]
  },
  {
   "cell_type": "code",
   "execution_count": 78,
   "id": "6d62f081",
   "metadata": {},
   "outputs": [
    {
     "data": {
      "image/png": "[encoded data removed]",
      "text/plain": [
       "<Figure size 800x400 with 1 Axes>"
      ]
     },
     "metadata": {},
     "output_type": "display_data"
    }
   ],
   "source": [
    "import matplotlib.pyplot as plt\n",
    "import seaborn as sns\n",
    "\n",
    "# Box plot for 'fare_amount'\n",
    "plt.figure(figsize=(8, 4))\n",
    "sns.boxplot(x=df['fare_amount'])\n",
    "plt.title('Box Plot of Fare Amount')\n",
    "plt.show()"
   ]
  },
  {
   "cell_type": "code",
   "execution_count": 79,
   "id": "7dc5645b",
   "metadata": {},
   "outputs": [
    {
     "data": {
      "image/png": "[encoded data removed]",
      "text/plain": [
       "<Figure size 800x400 with 1 Axes>"
      ]
     },
     "metadata": {},
     "output_type": "display_data"
    }
   ],
   "source": [
    "# Box plot for 'distance_km'\n",
    "plt.figure(figsize=(8, 4))\n",
    "sns.boxplot(x=df['distance_km'])\n",
    "plt.title('Box Plot of Distance (km)')\n",
    "plt.show()"
   ]
  },
  {
   "cell_type": "code",
   "execution_count": 80,
   "id": "ca2f7f87",
   "metadata": {},
   "outputs": [],
   "source": [
    "# Outlier Handling\n",
    "# Remove outliers in 'fare_amount' and 'distance_km' (i.e., unrealistic data)\n",
    "df = df[(df['fare_amount'] > 0) & (df['fare_amount'] < 100)]\n",
    "df = df[df['distance_km'] < 100]"
   ]
  },
  {
   "cell_type": "code",
   "execution_count": 81,
   "id": "8bfc01ba",
   "metadata": {},
   "outputs": [
    {
     "data": {
      "image/png": "[encoded data removed]",
      "text/plain": [
       "<Figure size 800x400 with 1 Axes>"
      ]
     },
     "metadata": {},
     "output_type": "display_data"
    }
   ],
   "source": [
    "# Box plot for 'distance_km'\n",
    "plt.figure(figsize=(8, 4))\n",
    "sns.boxplot(x=df['distance_km'])\n",
    "plt.title('Box Plot of Distance (km)')\n",
    "plt.show()"
   ]
  },
  {
   "cell_type": "code",
   "execution_count": 82,
   "id": "df6d60ba",
   "metadata": {},
   "outputs": [
    {
     "data": {
      "image/png": "[encoded data removed]",
      "text/plain": [
       "<Figure size 800x400 with 1 Axes>"
      ]
     },
     "metadata": {},
     "output_type": "display_data"
    }
   ],
   "source": [
    "import matplotlib.pyplot as plt\n",
    "import seaborn as sns\n",
    "\n",
    "# Box plot for 'fare_amount'\n",
    "plt.figure(figsize=(8, 4))\n",
    "sns.boxplot(x=df['fare_amount'])\n",
    "plt.title('Box Plot of Fare Amount')\n",
    "plt.show()"
   ]
  },
  {
   "cell_type": "code",
   "execution_count": 83,
   "id": "534d37cd",
   "metadata": {},
   "outputs": [
    {
     "data": {
      "text/plain": [
       "(192649, 13)"
      ]
     },
     "execution_count": 83,
     "metadata": {},
     "output_type": "execute_result"
    }
   ],
   "source": [
    "df.shape"
   ]
  },
  {
   "cell_type": "code",
   "execution_count": 85,
   "id": "23aabbb8",
   "metadata": {},
   "outputs": [
    {
     "data": {
      "text/html": [
       "<div>\n",
       "<style scoped>\n",
       "    .dataframe tbody tr th:only-of-type {\n",
       "        vertical-align: middle;\n",
       "    }\n",
       "\n",
       "    .dataframe tbody tr th {\n",
       "        vertical-align: top;\n",
       "    }\n",
       "\n",
       "    .dataframe thead th {\n",
       "        text-align: right;\n",
       "    }\n",
       "</style>\n",
       "<table border=\"1\" class=\"dataframe\">\n",
       "  <thead>\n",
       "    <tr style=\"text-align: right;\">\n",
       "      <th></th>\n",
       "      <th>fare_amount</th>\n",
       "      <th>pickup_datetime</th>\n",
       "      <th>pickup_longitude</th>\n",
       "      <th>pickup_latitude</th>\n",
       "      <th>dropoff_longitude</th>\n",
       "      <th>dropoff_latitude</th>\n",
       "      <th>passenger_count</th>\n",
       "      <th>year</th>\n",
       "      <th>month</th>\n",
       "      <th>day</th>\n",
       "      <th>hour</th>\n",
       "      <th>distance_km</th>\n",
       "      <th>month_name</th>\n",
       "    </tr>\n",
       "  </thead>\n",
       "  <tbody>\n",
       "    <tr>\n",
       "      <th>0</th>\n",
       "      <td>7.5</td>\n",
       "      <td>2015-05-07 19:52:06+00:00</td>\n",
       "      <td>-73.999817</td>\n",
       "      <td>40.738354</td>\n",
       "      <td>-73.999512</td>\n",
       "      <td>40.723217</td>\n",
       "      <td>1</td>\n",
       "      <td>2015</td>\n",
       "      <td>5</td>\n",
       "      <td>7</td>\n",
       "      <td>19</td>\n",
       "      <td>1.681111</td>\n",
       "      <td>May</td>\n",
       "    </tr>\n",
       "    <tr>\n",
       "      <th>1</th>\n",
       "      <td>7.7</td>\n",
       "      <td>2009-07-17 20:04:56+00:00</td>\n",
       "      <td>-73.994355</td>\n",
       "      <td>40.728225</td>\n",
       "      <td>-73.994710</td>\n",
       "      <td>40.750325</td>\n",
       "      <td>1</td>\n",
       "      <td>2009</td>\n",
       "      <td>7</td>\n",
       "      <td>17</td>\n",
       "      <td>20</td>\n",
       "      <td>2.454363</td>\n",
       "      <td>July</td>\n",
       "    </tr>\n",
       "    <tr>\n",
       "      <th>2</th>\n",
       "      <td>12.9</td>\n",
       "      <td>2009-08-24 21:45:00+00:00</td>\n",
       "      <td>-74.005043</td>\n",
       "      <td>40.740770</td>\n",
       "      <td>-73.962565</td>\n",
       "      <td>40.772647</td>\n",
       "      <td>1</td>\n",
       "      <td>2009</td>\n",
       "      <td>8</td>\n",
       "      <td>24</td>\n",
       "      <td>21</td>\n",
       "      <td>5.039603</td>\n",
       "      <td>August</td>\n",
       "    </tr>\n",
       "    <tr>\n",
       "      <th>3</th>\n",
       "      <td>5.3</td>\n",
       "      <td>2009-06-26 08:22:21+00:00</td>\n",
       "      <td>-73.976124</td>\n",
       "      <td>40.790844</td>\n",
       "      <td>-73.965316</td>\n",
       "      <td>40.803349</td>\n",
       "      <td>3</td>\n",
       "      <td>2009</td>\n",
       "      <td>6</td>\n",
       "      <td>26</td>\n",
       "      <td>8</td>\n",
       "      <td>1.661442</td>\n",
       "      <td>June</td>\n",
       "    </tr>\n",
       "    <tr>\n",
       "      <th>4</th>\n",
       "      <td>16.0</td>\n",
       "      <td>2014-08-28 17:47:00+00:00</td>\n",
       "      <td>-73.925023</td>\n",
       "      <td>40.744085</td>\n",
       "      <td>-73.973082</td>\n",
       "      <td>40.761247</td>\n",
       "      <td>5</td>\n",
       "      <td>2014</td>\n",
       "      <td>8</td>\n",
       "      <td>28</td>\n",
       "      <td>17</td>\n",
       "      <td>4.483730</td>\n",
       "      <td>August</td>\n",
       "    </tr>\n",
       "  </tbody>\n",
       "</table>\n",
       "</div>"
      ],
      "text/plain": [
       "   fare_amount           pickup_datetime  pickup_longitude  pickup_latitude  \\\n",
       "0          7.5 2015-05-07 19:52:06+00:00        -73.999817        40.738354   \n",
       "1          7.7 2009-07-17 20:04:56+00:00        -73.994355        40.728225   \n",
       "2         12.9 2009-08-24 21:45:00+00:00        -74.005043        40.740770   \n",
       "3          5.3 2009-06-26 08:22:21+00:00        -73.976124        40.790844   \n",
       "4         16.0 2014-08-28 17:47:00+00:00        -73.925023        40.744085   \n",
       "\n",
       "   dropoff_longitude  dropoff_latitude  passenger_count  year  month  day  \\\n",
       "0         -73.999512         40.723217                1  2015      5    7   \n",
       "1         -73.994710         40.750325                1  2009      7   17   \n",
       "2         -73.962565         40.772647                1  2009      8   24   \n",
       "3         -73.965316         40.803349                3  2009      6   26   \n",
       "4         -73.973082         40.761247                5  2014      8   28   \n",
       "\n",
       "   hour  distance_km month_name  \n",
       "0    19     1.681111        May  \n",
       "1    20     2.454363       July  \n",
       "2    21     5.039603     August  \n",
       "3     8     1.661442       June  \n",
       "4    17     4.483730     August  "
      ]
     },
     "execution_count": 85,
     "metadata": {},
     "output_type": "execute_result"
    }
   ],
   "source": [
    "df.columns\n",
    "df.head()"
   ]
  },
  {
   "cell_type": "code",
   "execution_count": 86,
   "id": "a57ddcfa",
   "metadata": {},
   "outputs": [
    {
     "data": {
      "text/html": [
       "<div>\n",
       "<style scoped>\n",
       "    .dataframe tbody tr th:only-of-type {\n",
       "        vertical-align: middle;\n",
       "    }\n",
       "\n",
       "    .dataframe tbody tr th {\n",
       "        vertical-align: top;\n",
       "    }\n",
       "\n",
       "    .dataframe thead th {\n",
       "        text-align: right;\n",
       "    }\n",
       "</style>\n",
       "<table border=\"1\" class=\"dataframe\">\n",
       "  <thead>\n",
       "    <tr style=\"text-align: right;\">\n",
       "      <th></th>\n",
       "      <th>fare_amount</th>\n",
       "      <th>pickup_datetime</th>\n",
       "      <th>passenger_count</th>\n",
       "      <th>year</th>\n",
       "      <th>month</th>\n",
       "      <th>day</th>\n",
       "      <th>hour</th>\n",
       "      <th>distance_km</th>\n",
       "    </tr>\n",
       "  </thead>\n",
       "  <tbody>\n",
       "    <tr>\n",
       "      <th>0</th>\n",
       "      <td>7.5</td>\n",
       "      <td>2015-05-07 19:52:06+00:00</td>\n",
       "      <td>1</td>\n",
       "      <td>2015</td>\n",
       "      <td>5</td>\n",
       "      <td>7</td>\n",
       "      <td>19</td>\n",
       "      <td>1.681111</td>\n",
       "    </tr>\n",
       "    <tr>\n",
       "      <th>1</th>\n",
       "      <td>7.7</td>\n",
       "      <td>2009-07-17 20:04:56+00:00</td>\n",
       "      <td>1</td>\n",
       "      <td>2009</td>\n",
       "      <td>7</td>\n",
       "      <td>17</td>\n",
       "      <td>20</td>\n",
       "      <td>2.454363</td>\n",
       "    </tr>\n",
       "    <tr>\n",
       "      <th>2</th>\n",
       "      <td>12.9</td>\n",
       "      <td>2009-08-24 21:45:00+00:00</td>\n",
       "      <td>1</td>\n",
       "      <td>2009</td>\n",
       "      <td>8</td>\n",
       "      <td>24</td>\n",
       "      <td>21</td>\n",
       "      <td>5.039603</td>\n",
       "    </tr>\n",
       "    <tr>\n",
       "      <th>3</th>\n",
       "      <td>5.3</td>\n",
       "      <td>2009-06-26 08:22:21+00:00</td>\n",
       "      <td>3</td>\n",
       "      <td>2009</td>\n",
       "      <td>6</td>\n",
       "      <td>26</td>\n",
       "      <td>8</td>\n",
       "      <td>1.661442</td>\n",
       "    </tr>\n",
       "    <tr>\n",
       "      <th>4</th>\n",
       "      <td>16.0</td>\n",
       "      <td>2014-08-28 17:47:00+00:00</td>\n",
       "      <td>5</td>\n",
       "      <td>2014</td>\n",
       "      <td>8</td>\n",
       "      <td>28</td>\n",
       "      <td>17</td>\n",
       "      <td>4.483730</td>\n",
       "    </tr>\n",
       "  </tbody>\n",
       "</table>\n",
       "</div>"
      ],
      "text/plain": [
       "   fare_amount           pickup_datetime  passenger_count  year  month  day  \\\n",
       "0          7.5 2015-05-07 19:52:06+00:00                1  2015      5    7   \n",
       "1          7.7 2009-07-17 20:04:56+00:00                1  2009      7   17   \n",
       "2         12.9 2009-08-24 21:45:00+00:00                1  2009      8   24   \n",
       "3          5.3 2009-06-26 08:22:21+00:00                3  2009      6   26   \n",
       "4         16.0 2014-08-28 17:47:00+00:00                5  2014      8   28   \n",
       "\n",
       "   hour  distance_km  \n",
       "0    19     1.681111  \n",
       "1    20     2.454363  \n",
       "2    21     5.039603  \n",
       "3     8     1.661442  \n",
       "4    17     4.483730  "
      ]
     },
     "execution_count": 86,
     "metadata": {},
     "output_type": "execute_result"
    }
   ],
   "source": [
    "# Drop any unnecessary columns\n",
    "df = df.drop(columns=['pickup_longitude', 'pickup_latitude',\n",
    "       'dropoff_longitude', 'dropoff_latitude','month_name'])\n",
    "df.head()"
   ]
  },
  {
   "cell_type": "markdown",
   "id": "be1fd39f",
   "metadata": {},
   "source": [
    "### Performing ML models"
   ]
  },
  {
   "cell_type": "code",
   "execution_count": 88,
   "id": "483c862d",
   "metadata": {},
   "outputs": [],
   "source": [
    "df = df.drop(columns=['pickup_datetime'])"
   ]
  },
  {
   "cell_type": "code",
   "execution_count": 89,
   "id": "deb9ba81",
   "metadata": {},
   "outputs": [
    {
     "name": "stdout",
     "output_type": "stream",
     "text": [
      "<class 'pandas.core.frame.DataFrame'>\n",
      "Int64Index: 192649 entries, 0 to 199999\n",
      "Data columns (total 7 columns):\n",
      " #   Column           Non-Null Count   Dtype  \n",
      "---  ------           --------------   -----  \n",
      " 0   fare_amount      192649 non-null  float64\n",
      " 1   passenger_count  192649 non-null  int64  \n",
      " 2   year             192649 non-null  int64  \n",
      " 3   month            192649 non-null  int64  \n",
      " 4   day              192649 non-null  int64  \n",
      " 5   hour             192649 non-null  int64  \n",
      " 6   distance_km      192649 non-null  float64\n",
      "dtypes: float64(2), int64(5)\n",
      "memory usage: 11.8 MB\n"
     ]
    }
   ],
   "source": [
    "df.info()"
   ]
  },
  {
   "cell_type": "code",
   "execution_count": 90,
   "id": "532a35d2",
   "metadata": {},
   "outputs": [],
   "source": [
    "# Define features and target variable\n",
    "X = df[['passenger_count', 'year', 'month', 'day','hour', 'distance_km']]\n",
    "y = df['fare_amount']\n",
    "\n",
    "# Split the data into train and test sets\n",
    "X_train, X_test, y_train, y_test = train_test_split(X, y, test_size=0.2, random_state=42)"
   ]
  },
  {
   "cell_type": "code",
   "execution_count": 91,
   "id": "6db1f653",
   "metadata": {},
   "outputs": [],
   "source": [
    "# Initialize models\n",
    "lr = LinearRegression()\n",
    "rf = RandomForestRegressor(n_estimators=100, random_state=42)\n",
    "gb = GradientBoostingRegressor(n_estimators=100, random_state=42)"
   ]
  },
  {
   "cell_type": "markdown",
   "id": "16a9416e",
   "metadata": {},
   "source": [
    "###### 1. Linear Regression"
   ]
  },
  {
   "cell_type": "code",
   "execution_count": 92,
   "id": "3c388834",
   "metadata": {},
   "outputs": [
    {
     "name": "stdout",
     "output_type": "stream",
     "text": [
      "Linear Regression RMSE: 4.675024627438056\n",
      "Linear Regression R2 Score: 0.7456842623319944\n"
     ]
    }
   ],
   "source": [
    "from sklearn.linear_model import LinearRegression\n",
    "from sklearn.metrics import mean_squared_error, r2_score\n",
    "import numpy as np\n",
    "\n",
    "# Train and evaluate Linear Regression\n",
    "lr.fit(X_train, y_train)\n",
    "y_pred_lr = lr.predict(X_test)\n",
    "print(\"Linear Regression RMSE:\", np.sqrt(mean_squared_error(y_test, y_pred_lr)))\n",
    "print(\"Linear Regression R2 Score:\", r2_score(y_test, y_pred_lr))"
   ]
  },
  {
   "cell_type": "markdown",
   "id": "2fd984cd",
   "metadata": {},
   "source": [
    "###### 2. Random Forest Regressor"
   ]
  },
  {
   "cell_type": "code",
   "execution_count": 93,
   "id": "ba22e999",
   "metadata": {},
   "outputs": [
    {
     "name": "stdout",
     "output_type": "stream",
     "text": [
      "Random Forest RMSE: 3.8044073223716017\n",
      "Random Forest R2 Score: 0.8315855125396892\n"
     ]
    }
   ],
   "source": [
    "from sklearn.ensemble import RandomForestRegressor\n",
    "\n",
    "# Train and evaluate Random Forest\n",
    "rf.fit(X_train, y_train)\n",
    "y_pred_rf = rf.predict(X_test)\n",
    "print(\"Random Forest RMSE:\", np.sqrt(mean_squared_error(y_test, y_pred_rf)))\n",
    "print(\"Random Forest R2 Score:\", r2_score(y_test, y_pred_rf))"
   ]
  },
  {
   "cell_type": "markdown",
   "id": "bca3be7d",
   "metadata": {},
   "source": [
    "###### 3. Gradient Boost Model"
   ]
  },
  {
   "cell_type": "code",
   "execution_count": 99,
   "id": "2501a7d8",
   "metadata": {},
   "outputs": [
    {
     "name": "stdout",
     "output_type": "stream",
     "text": [
      "Gradient Boosting RMSE: 3.6914536653745307\n",
      "Gradient Boosting R2 Score: 0.8414375771264021\n"
     ]
    }
   ],
   "source": [
    "from sklearn.ensemble import GradientBoostingRegressor\n",
    "\n",
    "# Train and evaluate Gradient Boosting\n",
    "gb.fit(X_train, y_train)\n",
    "y_pred_gb = gb.predict(X_test)\n",
    "print(\"Gradient Boosting RMSE:\", np.sqrt(mean_squared_error(y_test, y_pred_gb)))\n",
    "print(\"Gradient Boosting R2 Score:\", r2_score(y_test, y_pred_gb))"
   ]
  },
  {
   "cell_type": "code",
   "execution_count": 100,
   "id": "150d4b08",
   "metadata": {},
   "outputs": [
    {
     "name": "stdout",
     "output_type": "stream",
     "text": [
      "\n",
      "Model Performance Comparison:\n",
      "                Model      RMSE  R2 Score\n",
      "0  Linear Regression  4.675025  0.745684\n",
      "1      Random Forest  3.804407  0.831586\n",
      "2  Gradient Boosting  3.691454  0.841438\n"
     ]
    }
   ],
   "source": [
    "# Compare model performances\n",
    "models = ['Linear Regression', 'Random Forest', 'Gradient Boosting']\n",
    "rmse = [np.sqrt(mean_squared_error(y_test, y_pred_lr)),\n",
    "        np.sqrt(mean_squared_error(y_test, y_pred_rf)),\n",
    "        np.sqrt(mean_squared_error(y_test, y_pred_gb))]\n",
    "r2 = [r2_score(y_test, y_pred_lr), r2_score(y_test, y_pred_rf), r2_score(y_test, y_pred_gb)]\n",
    "\n",
    "performance_df = pd.DataFrame({'Model': models, 'RMSE': rmse, 'R2 Score': r2})\n",
    "print(\"\\nModel Performance Comparison:\\n\", performance_df)"
   ]
  },
  {
   "cell_type": "code",
   "execution_count": 101,
   "id": "2b1df97c",
   "metadata": {},
   "outputs": [
    {
     "data": {
      "image/png": "[encoded data removed]",
      "text/plain": [
       "<Figure size 1400x600 with 2 Axes>"
      ]
     },
     "metadata": {},
     "output_type": "display_data"
    }
   ],
   "source": [
    "import matplotlib.pyplot as plt\n",
    "import seaborn as sns\n",
    "\n",
    "# Set up the figure and axes\n",
    "fig, axes = plt.subplots(1, 2, figsize=(14, 6))\n",
    "\n",
    "# Plot RMSE comparison\n",
    "sns.barplot(x='Model', y='RMSE', data=performance_df, ax=axes[0], palette='viridis')\n",
    "axes[0].set_title('Model Comparison - RMSE')\n",
    "axes[0].set_xlabel('Model')\n",
    "axes[0].set_ylabel('Root Mean Square Error (RMSE)')\n",
    "\n",
    "# Plot R² Score comparison\n",
    "sns.barplot(x='Model', y='R2 Score', data=performance_df, ax=axes[1], palette='viridis')\n",
    "axes[1].set_title('Model Comparison - R² Score')\n",
    "axes[1].set_xlabel('Model')\n",
    "axes[1].set_ylabel('R² Score')\n",
    "\n",
    "# Show the plots\n",
    "plt.tight_layout()\n",
    "plt.show()\n"
   ]
  },
  {
   "cell_type": "markdown",
   "id": "36b8ab42",
   "metadata": {},
   "source": [
    "Based on the evaluation metrics, Gradient Boosting is the most suitable model for this fare prediction task, as it demonstrates the highest accuracy (R² score of 0.84) and the lowest error (RMSE of 3.68). It is recommended to proceed with Gradient Boosting for deployment or further fine-tuning, as it is likely to deliver the most reliable predictions in real-world scenarios."
   ]
  },
  {
   "cell_type": "markdown",
   "id": "470c1d83",
   "metadata": {},
   "source": [
    "###### Creating an App using Streamlit"
   ]
  },
  {
   "cell_type": "code",
   "execution_count": 107,
   "id": "733a384c",
   "metadata": {},
   "outputs": [
    {
     "data": {
      "text/plain": [
       "['gradient_boosting_model.pkl']"
      ]
     },
     "execution_count": 107,
     "metadata": {},
     "output_type": "execute_result"
    }
   ],
   "source": [
    "import joblib\n",
    "\n",
    "# Save the model\n",
    "joblib.dump(gb, 'gradient_boosting_model.pkl')"
   ]
  },
  {
   "cell_type": "code",
   "execution_count": 108,
   "id": "d968ce5a",
   "metadata": {},
   "outputs": [
    {
     "name": "stderr",
     "output_type": "stream",
     "text": [
      "2024-11-14 16:42:35.524 Thread 'MainThread': missing ScriptRunContext! This warning can be ignored when running in bare mode.\n",
      "2024-11-14 16:42:35.524 Thread 'MainThread': missing ScriptRunContext! This warning can be ignored when running in bare mode.\n",
      "2024-11-14 16:42:35.524 Thread 'MainThread': missing ScriptRunContext! This warning can be ignored when running in bare mode.\n",
      "2024-11-14 16:42:35.524 Thread 'MainThread': missing ScriptRunContext! This warning can be ignored when running in bare mode.\n",
      "2024-11-14 16:42:35.536 Thread 'MainThread': missing ScriptRunContext! This warning can be ignored when running in bare mode.\n",
      "2024-11-14 16:42:35.537 Thread 'MainThread': missing ScriptRunContext! This warning can be ignored when running in bare mode.\n",
      "2024-11-14 16:42:35.538 Thread 'MainThread': missing ScriptRunContext! This warning can be ignored when running in bare mode.\n",
      "2024-11-14 16:42:35.538 Thread 'MainThread': missing ScriptRunContext! This warning can be ignored when running in bare mode.\n",
      "2024-11-14 16:42:35.543 Thread 'MainThread': missing ScriptRunContext! This warning can be ignored when running in bare mode.\n",
      "2024-11-14 16:42:35.544 Thread 'MainThread': missing ScriptRunContext! This warning can be ignored when running in bare mode.\n",
      "2024-11-14 16:42:35.545 Thread 'MainThread': missing ScriptRunContext! This warning can be ignored when running in bare mode.\n",
      "2024-11-14 16:42:35.545 Thread 'MainThread': missing ScriptRunContext! This warning can be ignored when running in bare mode.\n",
      "2024-11-14 16:42:35.545 Thread 'MainThread': missing ScriptRunContext! This warning can be ignored when running in bare mode.\n",
      "2024-11-14 16:42:35.545 Thread 'MainThread': missing ScriptRunContext! This warning can be ignored when running in bare mode.\n",
      "2024-11-14 16:42:35.545 Thread 'MainThread': missing ScriptRunContext! This warning can be ignored when running in bare mode.\n",
      "2024-11-14 16:42:35.545 Thread 'MainThread': missing ScriptRunContext! This warning can be ignored when running in bare mode.\n",
      "2024-11-14 16:42:35.545 Thread 'MainThread': missing ScriptRunContext! This warning can be ignored when running in bare mode.\n",
      "2024-11-14 16:42:35.552 Thread 'MainThread': missing ScriptRunContext! This warning can be ignored when running in bare mode.\n",
      "2024-11-14 16:42:35.554 Thread 'MainThread': missing ScriptRunContext! This warning can be ignored when running in bare mode.\n",
      "2024-11-14 16:42:35.554 Thread 'MainThread': missing ScriptRunContext! This warning can be ignored when running in bare mode.\n",
      "2024-11-14 16:42:35.555 Thread 'MainThread': missing ScriptRunContext! This warning can be ignored when running in bare mode.\n",
      "2024-11-14 16:42:35.556 Thread 'MainThread': missing ScriptRunContext! This warning can be ignored when running in bare mode.\n",
      "2024-11-14 16:42:35.556 Thread 'MainThread': missing ScriptRunContext! This warning can be ignored when running in bare mode.\n",
      "2024-11-14 16:42:35.559 Thread 'MainThread': missing ScriptRunContext! This warning can be ignored when running in bare mode.\n",
      "2024-11-14 16:42:35.559 Thread 'MainThread': missing ScriptRunContext! This warning can be ignored when running in bare mode.\n",
      "2024-11-14 16:42:35.562 Thread 'MainThread': missing ScriptRunContext! This warning can be ignored when running in bare mode.\n",
      "2024-11-14 16:42:35.562 Thread 'MainThread': missing ScriptRunContext! This warning can be ignored when running in bare mode.\n",
      "2024-11-14 16:42:35.562 Thread 'MainThread': missing ScriptRunContext! This warning can be ignored when running in bare mode.\n",
      "2024-11-14 16:42:35.567 Thread 'MainThread': missing ScriptRunContext! This warning can be ignored when running in bare mode.\n",
      "2024-11-14 16:42:35.568 Thread 'MainThread': missing ScriptRunContext! This warning can be ignored when running in bare mode.\n",
      "2024-11-14 16:42:35.568 Thread 'MainThread': missing ScriptRunContext! This warning can be ignored when running in bare mode.\n",
      "2024-11-14 16:42:35.571 Thread 'MainThread': missing ScriptRunContext! This warning can be ignored when running in bare mode.\n",
      "2024-11-14 16:42:35.571 Thread 'MainThread': missing ScriptRunContext! This warning can be ignored when running in bare mode.\n",
      "2024-11-14 16:42:35.571 Thread 'MainThread': missing ScriptRunContext! This warning can be ignored when running in bare mode.\n"
     ]
    }
   ],
   "source": [
    "import streamlit as st\n",
    "import joblib\n",
    "import numpy as np\n",
    "from datetime import datetime\n",
    "\n",
    "# Load the saved model\n",
    "model = joblib.load('gradient_boosting_model.pkl')\n",
    "\n",
    "# Define the main function for the app\n",
    "def main():\n",
    "    st.title(\"Uber Fare Prediction App\")\n",
    "    st.write(\"This app predicts the fare amount for an Uber ride based on input features.\")\n",
    "    \n",
    "    # Input fields for features\n",
    "    passenger_count = st.number_input(\"Passenger Count\", min_value=1, max_value=6, value=1, step=1)\n",
    "    \n",
    "    # Date input with restricted range between 2009 and 2015\n",
    "    date = st.date_input(\n",
    "        \"Date of Ride\", \n",
    "        value=datetime(2015, 1, 1),\n",
    "        min_value=datetime(2009, 1, 1),\n",
    "        max_value=datetime(2015, 12, 31)\n",
    "    )\n",
    "    \n",
    "    # Extract year, month, and day from date\n",
    "    year = date.year\n",
    "    month = date.month\n",
    "    day = date.day\n",
    "\n",
    "    # Time input (hour and minute)\n",
    "    time_input = st.time_input(\"Pickup Time\", value=datetime(2015, 1, 1, 11, 0), step=60)\n",
    "    \n",
    "    # Extract hour and minute from the time input\n",
    "    hour = time_input.hour\n",
    "    minute = time_input.minute\n",
    "\n",
    "    # Distance input\n",
    "    distance_km = st.number_input(\"Distance (km)\", min_value=0.1, value=5.0, step=0.1)\n",
    "\n",
    "    # Predict button\n",
    "    if st.button(\"Predict Fare\"):\n",
    "        # Make prediction\n",
    "        features = np.array([[passenger_count, year, month, day, hour + minute / 60, distance_km]])\n",
    "        prediction = model.predict(features)\n",
    "        \n",
    "        # Display the prediction\n",
    "        st.write(f\"Predicted Fare Amount: ${prediction[0]:.2f}\")\n",
    "\n",
    "if __name__ == \"__main__\":\n",
    "    main()\n"
   ]
  },
  {
   "cell_type": "code",
   "execution_count": null,
   "id": "397b5bb0",
   "metadata": {},
   "outputs": [],
   "source": []
  }
 ],
 "metadata": {
  "kernelspec": {
   "display_name": "Python 3 (ipykernel)",
   "language": "python",
   "name": "python3"
  },
  "language_info": {
   "codemirror_mode": {
    "name": "ipython",
    "version": 3
   },
   "file_extension": ".py",
   "mimetype": "text/x-python",
   "name": "python",
   "nbconvert_exporter": "python",
   "pygments_lexer": "ipython3",
   "version": "3.9.13"
  }
 },
 "nbformat": 4,
 "nbformat_minor": 5
}
